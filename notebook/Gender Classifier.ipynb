{
 "cells": [
  {
   "cell_type": "code",
   "execution_count": 1,
   "id": "95809dd4",
   "metadata": {},
   "outputs": [
    {
     "data": {
      "text/html": [
       "\n",
       "<style>\n",
       "    /* Turns off some styling */\n",
       "    progress {\n",
       "        /* gets rid of default border in Firefox and Opera. */\n",
       "        border: none;\n",
       "        /* Needs to be in here for Safari polyfill so background images work as expected. */\n",
       "        background-size: auto;\n",
       "    }\n",
       "    progress:not([value]), progress:not([value])::-webkit-progress-bar {\n",
       "        background: repeating-linear-gradient(45deg, #7e7e7e, #7e7e7e 10px, #5c5c5c 10px, #5c5c5c 20px);\n",
       "    }\n",
       "    .progress-bar-interrupted, .progress-bar-interrupted::-webkit-progress-bar {\n",
       "        background: #F44336;\n",
       "    }\n",
       "</style>\n"
      ],
      "text/plain": [
       "<IPython.core.display.HTML object>"
      ]
     },
     "metadata": {},
     "output_type": "display_data"
    },
    {
     "data": {
      "text/html": [
       "\n",
       "    <div>\n",
       "      <progress value='516096' class='' max='510656' style='width:300px; height:20px; vertical-align: middle;'></progress>\n",
       "      101.07% [516096/510656 00:00&lt;00:00]\n",
       "    </div>\n",
       "    "
      ],
      "text/plain": [
       "<IPython.core.display.HTML object>"
      ]
     },
     "metadata": {},
     "output_type": "display_data"
    },
    {
     "data": {
      "text/html": [
       "\n",
       "<style>\n",
       "    /* Turns off some styling */\n",
       "    progress {\n",
       "        /* gets rid of default border in Firefox and Opera. */\n",
       "        border: none;\n",
       "        /* Needs to be in here for Safari polyfill so background images work as expected. */\n",
       "        background-size: auto;\n",
       "    }\n",
       "    progress:not([value]), progress:not([value])::-webkit-progress-bar {\n",
       "        background: repeating-linear-gradient(45deg, #7e7e7e, #7e7e7e 10px, #5c5c5c 10px, #5c5c5c 20px);\n",
       "    }\n",
       "    .progress-bar-interrupted, .progress-bar-interrupted::-webkit-progress-bar {\n",
       "        background: #F44336;\n",
       "    }\n",
       "</style>\n"
      ],
      "text/plain": [
       "<IPython.core.display.HTML object>"
      ]
     },
     "metadata": {},
     "output_type": "display_data"
    },
    {
     "data": {
      "text/html": [
       "\n",
       "    <div>\n",
       "      <progress value='942080' class='' max='936690' style='width:300px; height:20px; vertical-align: middle;'></progress>\n",
       "      100.58% [942080/936690 00:00&lt;00:00]\n",
       "    </div>\n",
       "    "
      ],
      "text/plain": [
       "<IPython.core.display.HTML object>"
      ]
     },
     "metadata": {},
     "output_type": "display_data"
    }
   ],
   "source": [
    "from fastbook import *\n",
    "from pathlib import Path\n",
    "# Define the search queries for woman and man portraits\n",
    "searches = ['woman pictures portrait', 'man pictures portrait']\n",
    "\n",
    "# Set the path to the directory where the dataset will be stored\n",
    "path = Path('dataset')\n",
    "\n",
    "# Check if the dataset directory doesn't exist\n",
    "if not path.exists():\n",
    "    # Create the dataset directory if it doesn't exist\n",
    "    path.mkdir(exist_ok=True)\n",
    "    \n",
    "    # Loop through the search queries\n",
    "    for o in searches:\n",
    "        # Create a subdirectory within the dataset directory for each search query\n",
    "        x = o.split()[0]\n",
    "        dest = (path/x)\n",
    "        dest.mkdir(exist_ok=True)\n",
    "        \n",
    "        # Search and download images based on the current query\n",
    "        results = search_images_ddg(o)\n",
    "        download_images(dest, urls=results[:200])\n",
    "        \n",
    "        # Resize the downloaded images to a maximum size of 400 pixels\n",
    "        resize_images(dest, max_size=400, dest=dest)\n",
    "\n",
    "# Verify the integrity of the downloaded images\n",
    "failed = verify_images(get_image_files(path))\n",
    "failed.map(Path.unlink)\n",
    "\n",
    "# Define how the image data will be loaded and processed\n",
    "dls = DataBlock(\n",
    "    blocks=(ImageBlock, CategoryBlock),\n",
    "    get_items=get_image_files,\n",
    "    splitter=RandomSplitter(valid_pct=0.4, seed=42),\n",
    "    get_y=parent_label,\n",
    "    item_tfms=Resize(192, method='squish')\n",
    ").dataloaders(path)\n",
    "\n",
    "# Display a batch of images from the data loaders\n",
    "dls.show_batch()\n",
    "\n",
    "# Create a CNN learner using the data loaders and the resnet18 architecture\n",
    "learn = cnn_learner(dls, resnet18, metrics=error_rate)\n",
    "\n",
    "# Fine-tune the pre-trained model on the dataset for 3 epochs\n",
    "learn.fine_tune(3)\n",
    "\n",
    "# Search and download a woman portrait image if it doesn't exist\n",
    "urls = search_images_ddg('woman pictures portrait', max_images=1)\n",
    "dest = Path('Woman.jpg')\n",
    "if not dest.exists():\n",
    "    download_url(urls[0], dest, show_progress=True)\n",
    "\n",
    "# Search and download a man portrait image if it doesn't exist\n",
    "destf = Path('Man.jpg')\n",
    "if not destf.exists():\n",
    "    download_url(search_images_ddg('man pictures portrait', max_images=1)[0], destf, show_progress=True)\n",
    "\n",
    "# Use the trained model to predict the gender of the woman image\n",
    "gender, _, probs = learn.predict(PILImage.create('Woman.jpg'))\n",
    "\n",
    "# Print the predicted gender and its probability\n",
    "print(f\"This is a: {gender}.\")\n",
    "print(f\"Probability it is a woman: {probs[1]:.4f}.\")\n",
    "print(f\"Probability it is a man: {probs[1]:.4f}.\")"
   ]
  }
 ],
 "metadata": {
  "kernelspec": {
   "display_name": "Python 3 (ipykernel)",
   "language": "python",
   "name": "python3"
  },
  "language_info": {
   "codemirror_mode": {
    "name": "ipython",
    "version": 3
   },
   "file_extension": ".py",
   "mimetype": "text/x-python",
   "name": "python",
   "nbconvert_exporter": "python",
   "pygments_lexer": "ipython3",
   "version": "3.9.12"
  }
 },
 "nbformat": 4,
 "nbformat_minor": 5
}
