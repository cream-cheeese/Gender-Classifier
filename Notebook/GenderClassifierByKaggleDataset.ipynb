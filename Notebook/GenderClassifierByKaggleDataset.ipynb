{
 "cells": [
  {
   "cell_type": "code",
   "execution_count": null,
   "id": "d98b924f",
   "metadata": {},
   "outputs": [],
   "source": [
    "from fastbook import *\n",
    "from pathlib import Path"
   ]
  },
  {
   "cell_type": "markdown",
   "id": "2e70bae9",
   "metadata": {},
   "source": [
    "1. Go to the following URL in your web browser: https://www.kaggle.com/datasets/mustafaozcance/gender-classification-data-set\n",
    "2. On the Kaggle dataset page, you will see a blue \"Download\" button on the right side. Click on the \"Download\" button.\n",
    "3. After clicking the \"Download\" button, a dialog box will appear. Choose the option to download the dataset as a ZIP file. \n",
    "4. Select the destination folder where you want to save the downloaded ZIP file. Choose a location on your computer that you can easily access later.\n",
    "5. Wait for the download to complete. The download time will depend on the size of the dataset and your internet connection speed.\n",
    "6. Once the download is finished, navigate to the folder where you saved the ZIP file.\n",
    "7. Extract the contents of the ZIP file. Right-click on the ZIP file, and select an option like \"Extract All\" or \"Extract Here\". This will create a new folder with the extracted dataset files.\n",
    "\n",
    "After following these steps, you should have the dataset files extracted and ready to use. You can specify the path to the extracted dataset folder in your code to access the dataset files for further processing or analysis."
   ]
  },
  {
   "cell_type": "code",
   "execution_count": null,
   "id": "fdfaa639",
   "metadata": {},
   "outputs": [],
   "source": [
    "# Set the path to the directory where the dataset is stored\n",
    "path = 'path-to-the-extracted-dataset-folder'\n",
    "\n",
    "# Verify the integrity of the downloaded images\n",
    "failed = verify_images(get_image_files(path))\n",
    "failed.map(Path.unlink)\n",
    "\n",
    "# Define how the image data will be loaded and processed\n",
    "dls = DataBlock(\n",
    "    blocks=(ImageBlock, CategoryBlock),\n",
    "    get_items=get_image_files,\n",
    "    splitter=RandomSplitter(valid_pct=0.4, seed=42),\n",
    "    get_y=parent_label,\n",
    "    item_tfms= Resize(128), batch_tfms=aug_transforms(mult=2)\n",
    ").dataloaders(path)\n",
    "\n",
    "# Create a CNN learner using the data loaders and the resnet18 architecture\n",
    "learn = vision_learner(dls, resnet101, metrics=error_rate)\n",
    "\n",
    "\n",
    "# Fine-tune the pre-trained model on the dataset for 10 epochs\n",
    "learn.fine_tune(10)\n",
    "\n",
    "# Save the trained model\n",
    "learn.export('model.pkl')"
   ]
  }
 ],
 "metadata": {
  "kernelspec": {
   "display_name": "Python 3 (ipykernel)",
   "language": "python",
   "name": "python3"
  },
  "language_info": {
   "codemirror_mode": {
    "name": "ipython",
    "version": 3
   },
   "file_extension": ".py",
   "mimetype": "text/x-python",
   "name": "python",
   "nbconvert_exporter": "python",
   "pygments_lexer": "ipython3",
   "version": "3.9.12"
  }
 },
 "nbformat": 4,
 "nbformat_minor": 5
}
